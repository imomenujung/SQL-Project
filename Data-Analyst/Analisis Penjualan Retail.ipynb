{
 "cells": [
  {
   "cell_type": "markdown",
   "metadata": {},
   "source": [
    "# Analisis Penjualan Retail\n",
    "\n",
    "Proyek ini menganalisis data penjualan dari sebuah toko retail."
   ]
  },
  {
   "cell_type": "code",
   "execution_count": 1,
   "metadata": {},
   "outputs": [],
   "source": [
    "import sqlite3\n",
    "import pandas as pd\n",
    "\n",
    "# Membuat koneksi ke database SQLite\n",
    "conn = sqlite3.connect('retail_sales.db')\n",
    "cursor = conn.cursor()"
   ]
  },
  {
   "cell_type": "markdown",
   "metadata": {},
   "source": [
    "## Membuat Tabel"
   ]
  },
  {
   "cell_type": "code",
   "execution_count": 2,
   "metadata": {},
   "outputs": [],
   "source": [
    "# Membuat tabel Produk\n",
    "cursor.execute('''\n",
    "CREATE TABLE Produk (\n",
    "    produk_id INTEGER PRIMARY KEY,\n",
    "    nama TEXT NOT NULL,\n",
    "    kategori TEXT NOT NULL,\n",
    "    harga REAL NOT NULL\n",
    ")\n",
    "''')\n",
    "\n",
    "# Membuat tabel Pelanggan\n",
    "cursor.execute('''\n",
    "CREATE TABLE Pelanggan (\n",
    "    pelanggan_id INTEGER PRIMARY KEY,\n",
    "    nama TEXT NOT NULL,\n",
    "    email TEXT NOT NULL\n",
    ")\n",
    "''')\n",
    "\n",
    "# Membuat tabel Penjualan\n",
    "cursor.execute('''\n",
    "CREATE TABLE Penjualan (\n",
    "    penjualan_id INTEGER PRIMARY KEY,\n",
    "    produk_id INTEGER,\n",
    "    pelanggan_id INTEGER,\n",
    "    tanggal TEXT NOT NULL,\n",
    "    jumlah INTEGER NOT NULL,\n",
    "    total_harga REAL NOT NULL,\n",
    "    FOREIGN KEY (produk_id) REFERENCES Produk(produk_id),\n",
    "    FOREIGN KEY (pelanggan_id) REFERENCES Pelanggan(pelanggan_id)\n",
    ")\n",
    "''')\n",
    "\n",
    "conn.commit()"
   ]
  },
  {
   "cell_type": "markdown",
   "metadata": {},
   "source": [
    "## Mengisi Data"
   ]
  },
  {
   "cell_type": "code",
   "execution_count": 3,
   "metadata": {},
   "outputs": [],
   "source": [
    "# Mengisi data ke tabel Produk\n",
    "produk_data = [\n",
    "    (1, 'Produk A', 'Kategori 1', 10000),\n",
    "    (2, 'Produk B', 'Kategori 1', 15000),\n",
    "    (3, 'Produk C', 'Kategori 2', 20000)\n",
    "]\n",
    "cursor.executemany('INSERT INTO Produk VALUES (?,?,?,?)', produk_data)\n",
    "\n",
    "# Mengisi data ke tabel Pelanggan\n",
    "pelanggan_data = [\n",
    "    (1, 'Andi', 'andi@example.com'),\n",
    "    (2, 'Budi', 'budi@example.com'),\n",
    "    (3, 'Cici', 'cici@example.com')\n",
    "]\n",
    "cursor.executemany('INSERT INTO Pelanggan VALUES (?,?,?)', pelanggan_data)\n",
    "\n",
    "# Mengisi data ke tabel Penjualan\n",
    "penjualan_data = [\n",
    "    (1, 1, 1, '2023-01-01', 2, 20000),\n",
    "    (2, 2, 1, '2023-01-05', 1, 15000),\n",
    "    (3, 3, 2, '2023-01-10', 1, 20000),\n",
    "    (4, 1, 3, '2023-02-01', 3, 30000)\n",
    "]\n",
    "cursor.executemany('INSERT INTO Penjualan VALUES (?,?,?,?,?,?)', penjualan_data)\n",
    "\n",
    "conn.commit()"
   ]
  },
  {
   "cell_type": "markdown",
   "metadata": {},
   "source": [
    "## Analisis Data"
   ]
  },
  {
   "cell_type": "code",
   "execution_count": 4,
   "metadata": {},
   "outputs": [],
   "source": [
    "# Produk terlaris\n",
    "query = '''\n",
    "SELECT p.nama, SUM(jumlah) as total_terjual \n",
    "FROM Penjualan \n",
    "JOIN Produk p ON Penjualan.produk_id = p.produk_id \n",
    "GROUP BY p.nama \n",
    "ORDER BY total_terjual DESC\n",
    "LIMIT 1\n",
    "'''\n",
    "pd.read_sql_query(query, conn)"
   ]
  },
  {
   "cell_type": "code",
   "execution_count": 5,
   "metadata": {},
   "outputs": [],
   "source": [
    "# Pelanggan paling setia\n",
    "query = '''\n",
    "SELECT pl.nama, COUNT(penjualan_id) as total_transaksi \n",
    "FROM Penjualan \n",
    "JOIN Pelanggan pl ON Penjualan.pelanggan_id = pl.pelanggan_id \n",
    "GROUP BY pl.nama \n",
    "ORDER BY total_transaksi DESC\n",
    "LIMIT 1\n",
    "'''\n",
    "pd.read_sql_query(query, conn)"
   ]
  },
  {
   "cell_type": "code",
   "execution_count": 6,
   "metadata": {},
   "outputs": [],
   "source": [
    "# Total penjualan per bulan\n",
    "query = '''\n",
    "SELECT strftime('%Y-%m', tanggal) as bulan, SUM(total_harga) as total_penjualan \n",
    "FROM Penjualan \n",
    "GROUP BY bulan \n",
    "ORDER BY bulan\n",
    "'''\n",
    "pd.read_sql_query(query, conn)"
   ]
  },
  {
   "cell_type": "markdown",
   "metadata": {},
   "source": [
    "## Penutupan Koneksi"
   ]
  },
  {
   "cell_type": "code",
   "execution_count": 7,
   "metadata": {},
   "outputs": [],
   "source": [
    "# Menutup koneksi ke database\n",
    "conn.close()"
   ]
  }
 ],
 "metadata": {
  "kernelspec": {
   "display_name": "Python 3",
   "language": "python",
   "name": "python3"
  },
  "language_info": {
   "codemirror_mode": {
    "name": "ipython",
    "version": 3
   },
   "file_extension": ".py",
   "mimetype": "text/x-python",
   "name": "python",
   "nbconvert_exporter": "python",
   "pygments_lexer": "ipython3",
   "version": "3.8.5"
  }
 },
 "nbformat": 4,
 "nbformat_minor": 4
}
