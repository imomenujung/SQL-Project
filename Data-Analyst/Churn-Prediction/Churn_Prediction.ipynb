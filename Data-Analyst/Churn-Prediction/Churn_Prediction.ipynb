{
  "nbformat": 4,
  "nbformat_minor": 0,
  "metadata": {
    "colab": {
      "provenance": []
    },
    "kernelspec": {
      "name": "python3",
      "display_name": "Python 3"
    },
    "language_info": {
      "name": "python"
    }
  },
  "cells": [
    {
      "cell_type": "code",
      "execution_count": 1,
      "metadata": {
        "id": "Xy4RQh55GwXW"
      },
      "outputs": [],
      "source": [
        "import pandas as pd\n",
        "import sqlite3\n",
        "\n",
        "# Membuat koneksi ke database SQLite\n",
        "conn = sqlite3.connect('churn_prediction.db')"
      ]
    },
    {
      "cell_type": "code",
      "source": [
        "# Load dataset ke dalam DataFrame\n",
        "data = pd.read_csv('https://raw.githubusercontent.com/imomenujung/SQL-Project/main/Data-Analyst/Churn-Prediction/WA_Fn-UseC_-Telco-Customer-Churn.csv', encoding='ISO-8859-1')\n",
        "\n",
        "# Impor data ke tabel SQL\n",
        "data.to_sql('telco_churn', conn, if_exists='replace', index=False)"
      ],
      "metadata": {
        "colab": {
          "base_uri": "https://localhost:8080/"
        },
        "id": "fvyL_FDUG2cN",
        "outputId": "8a67db79-22a3-49e9-a1f3-3e014e335a63"
      },
      "execution_count": 2,
      "outputs": [
        {
          "output_type": "execute_result",
          "data": {
            "text/plain": [
              "7043"
            ]
          },
          "metadata": {},
          "execution_count": 2
        }
      ]
    },
    {
      "cell_type": "code",
      "source": [
        "# Checking Null Value\n",
        "null_values = data.isnull().sum()\n",
        "print(null_values)\n"
      ],
      "metadata": {
        "colab": {
          "base_uri": "https://localhost:8080/"
        },
        "id": "Kso0D8HRHZF6",
        "outputId": "8441f39f-f039-4654-9737-92edc475f5eb"
      },
      "execution_count": 3,
      "outputs": [
        {
          "output_type": "stream",
          "name": "stdout",
          "text": [
            "customerID          0\n",
            "gender              0\n",
            "SeniorCitizen       0\n",
            "Partner             0\n",
            "Dependents          0\n",
            "tenure              0\n",
            "PhoneService        0\n",
            "MultipleLines       0\n",
            "InternetService     0\n",
            "OnlineSecurity      0\n",
            "OnlineBackup        0\n",
            "DeviceProtection    0\n",
            "TechSupport         0\n",
            "StreamingTV         0\n",
            "StreamingMovies     0\n",
            "Contract            0\n",
            "PaperlessBilling    0\n",
            "PaymentMethod       0\n",
            "MonthlyCharges      0\n",
            "TotalCharges        0\n",
            "Churn               0\n",
            "dtype: int64\n"
          ]
        }
      ]
    },
    {
      "cell_type": "code",
      "source": [
        "queries = {\n",
        "\"Count Total Customer\" : \"\"\"\n",
        "  SELECT COUNT(*) FROM telco_churn;\"\"\",\n",
        "\"Count Churned vs. Non-Churned Customers\" : '''\n",
        "  SELECT Churn, COUNT(*) FROM telco_churn GROUP BY Churn;''',\n",
        "\"Average Tenure of Churned vs. Non-Churned Customers:\" : '''\n",
        "  SELECT Churn, AVG(Tenure) FROM telco_churn GROUP BY Churn;''',\n",
        "\"Distribution of Payment Methods among Churned Customers:\" : '''\n",
        "  SELECT PaymentMethod, COUNT(*) FROM telco_churn WHERE Churn = 'Yes' GROUP BY PaymentMethod;'''\n",
        "}\n",
        "for query_name, query in queries.items():\n",
        "    print(f\"{query_name}\")\n",
        "    result = pd.read_sql_query(query, conn)\n",
        "    print(result)\n",
        "    print(\"\\n\")\n",
        "\n"
      ],
      "metadata": {
        "colab": {
          "base_uri": "https://localhost:8080/"
        },
        "id": "e2Q1BxYNHo_I",
        "outputId": "9f95f69e-c409-42e4-d8b3-9f3f6f9b7fd8"
      },
      "execution_count": 4,
      "outputs": [
        {
          "output_type": "stream",
          "name": "stdout",
          "text": [
            "Count Total Customer\n",
            "   COUNT(*)\n",
            "0      7043\n",
            "\n",
            "\n",
            "Count Churned vs. Non-Churned Customers\n",
            "  Churn  COUNT(*)\n",
            "0    No      5174\n",
            "1   Yes      1869\n",
            "\n",
            "\n",
            "Average Tenure of Churned vs. Non-Churned Customers:\n",
            "  Churn  AVG(Tenure)\n",
            "0    No    37.569965\n",
            "1   Yes    17.979133\n",
            "\n",
            "\n",
            "Distribution of Payment Methods among Churned Customers:\n",
            "               PaymentMethod  COUNT(*)\n",
            "0  Bank transfer (automatic)       258\n",
            "1    Credit card (automatic)       232\n",
            "2           Electronic check      1071\n",
            "3               Mailed check       308\n",
            "\n",
            "\n"
          ]
        }
      ]
    },
    {
      "cell_type": "code",
      "source": [
        "# Add tenure_group Column\n",
        "conn.execute(\"ALTER TABLE telco_churn ADD COLUMN tenure_group VARCHAR(20);\")\n",
        "\n",
        "# Update tenure_group Column\n",
        "conn.execute('''\n",
        "UPDATE telco_churn\n",
        "SET tenure_group = CASE\n",
        "    WHEN tenure <= 12 THEN '0-12 Months'\n",
        "    WHEN tenure <= 24 THEN '12-24 Months'\n",
        "    WHEN tenure <= 48 THEN '24-48 Months'\n",
        "    WHEN tenure <= 60 THEN '48-60 Months'\n",
        "    ELSE '60+ Months'\n",
        "END;\n",
        "''')\n",
        "\n",
        "# Commit\n",
        "conn.commit()\n",
        "\n",
        "# Changed Verification\n",
        "result = pd.read_sql_query(\"SELECT * FROM telco_churn;\", conn)\n",
        "print(result)\n"
      ],
      "metadata": {
        "colab": {
          "base_uri": "https://localhost:8080/"
        },
        "id": "wYaZFr1jJaHP",
        "outputId": "270cc84c-349b-41f4-f9dd-1b2684906607"
      },
      "execution_count": 5,
      "outputs": [
        {
          "output_type": "stream",
          "name": "stdout",
          "text": [
            "      customerID  gender  SeniorCitizen Partner Dependents  tenure  \\\n",
            "0     7590-VHVEG  Female              0     Yes         No       1   \n",
            "1     5575-GNVDE    Male              0      No         No      34   \n",
            "2     3668-QPYBK    Male              0      No         No       2   \n",
            "3     7795-CFOCW    Male              0      No         No      45   \n",
            "4     9237-HQITU  Female              0      No         No       2   \n",
            "...          ...     ...            ...     ...        ...     ...   \n",
            "7038  6840-RESVB    Male              0     Yes        Yes      24   \n",
            "7039  2234-XADUH  Female              0     Yes        Yes      72   \n",
            "7040  4801-JZAZL  Female              0     Yes        Yes      11   \n",
            "7041  8361-LTMKD    Male              1     Yes         No       4   \n",
            "7042  3186-AJIEK    Male              0      No         No      66   \n",
            "\n",
            "     PhoneService     MultipleLines InternetService OnlineSecurity  ...  \\\n",
            "0              No  No phone service             DSL             No  ...   \n",
            "1             Yes                No             DSL            Yes  ...   \n",
            "2             Yes                No             DSL            Yes  ...   \n",
            "3              No  No phone service             DSL            Yes  ...   \n",
            "4             Yes                No     Fiber optic             No  ...   \n",
            "...           ...               ...             ...            ...  ...   \n",
            "7038          Yes               Yes             DSL            Yes  ...   \n",
            "7039          Yes               Yes     Fiber optic             No  ...   \n",
            "7040           No  No phone service             DSL            Yes  ...   \n",
            "7041          Yes               Yes     Fiber optic             No  ...   \n",
            "7042          Yes                No     Fiber optic            Yes  ...   \n",
            "\n",
            "     TechSupport StreamingTV StreamingMovies        Contract PaperlessBilling  \\\n",
            "0             No          No              No  Month-to-month              Yes   \n",
            "1             No          No              No        One year               No   \n",
            "2             No          No              No  Month-to-month              Yes   \n",
            "3            Yes          No              No        One year               No   \n",
            "4             No          No              No  Month-to-month              Yes   \n",
            "...          ...         ...             ...             ...              ...   \n",
            "7038         Yes         Yes             Yes        One year              Yes   \n",
            "7039          No         Yes             Yes        One year              Yes   \n",
            "7040          No          No              No  Month-to-month              Yes   \n",
            "7041          No          No              No  Month-to-month              Yes   \n",
            "7042         Yes         Yes             Yes        Two year              Yes   \n",
            "\n",
            "                  PaymentMethod MonthlyCharges TotalCharges  Churn  \\\n",
            "0              Electronic check          29.85        29.85     No   \n",
            "1                  Mailed check          56.95       1889.5     No   \n",
            "2                  Mailed check          53.85       108.15    Yes   \n",
            "3     Bank transfer (automatic)          42.30      1840.75     No   \n",
            "4              Electronic check          70.70       151.65    Yes   \n",
            "...                         ...            ...          ...    ...   \n",
            "7038               Mailed check          84.80       1990.5     No   \n",
            "7039    Credit card (automatic)         103.20       7362.9     No   \n",
            "7040           Electronic check          29.60       346.45     No   \n",
            "7041               Mailed check          74.40        306.6    Yes   \n",
            "7042  Bank transfer (automatic)         105.65       6844.5     No   \n",
            "\n",
            "      tenure_group  \n",
            "0      0-12 Months  \n",
            "1     24-48 Months  \n",
            "2      0-12 Months  \n",
            "3     24-48 Months  \n",
            "4      0-12 Months  \n",
            "...            ...  \n",
            "7038  12-24 Months  \n",
            "7039    60+ Months  \n",
            "7040   0-12 Months  \n",
            "7041   0-12 Months  \n",
            "7042    60+ Months  \n",
            "\n",
            "[7043 rows x 22 columns]\n"
          ]
        }
      ]
    },
    {
      "cell_type": "code",
      "source": [
        "# Add charges_group Column\n",
        "conn.execute(\"ALTER TABLE telco_churn ADD COLUMN charges_group VARCHAR(20);\")\n",
        "\n",
        "# Update charges_group Column\n",
        "conn.execute('''\n",
        "UPDATE telco_churn\n",
        "SET charges_group = CASE\n",
        "    WHEN MonthlyCharges <= 30 THEN 'Low'\n",
        "    WHEN MonthlyCharges <= 60 THEN 'Medium'\n",
        "    ELSE 'High'\n",
        "END;\n",
        "''')\n",
        "\n",
        "# Commit\n",
        "conn.commit()\n",
        "\n",
        "# Changed Verification\n",
        "result = pd.read_sql_query(\"SELECT * FROM telco_churn ;\", conn)\n",
        "print(result)\n"
      ],
      "metadata": {
        "colab": {
          "base_uri": "https://localhost:8080/"
        },
        "id": "fl_KTrKbLHRR",
        "outputId": "bfbc5bb1-7289-4984-c89b-f524717b7827"
      },
      "execution_count": 6,
      "outputs": [
        {
          "output_type": "stream",
          "name": "stdout",
          "text": [
            "      customerID  gender  SeniorCitizen Partner Dependents  tenure  \\\n",
            "0     7590-VHVEG  Female              0     Yes         No       1   \n",
            "1     5575-GNVDE    Male              0      No         No      34   \n",
            "2     3668-QPYBK    Male              0      No         No       2   \n",
            "3     7795-CFOCW    Male              0      No         No      45   \n",
            "4     9237-HQITU  Female              0      No         No       2   \n",
            "...          ...     ...            ...     ...        ...     ...   \n",
            "7038  6840-RESVB    Male              0     Yes        Yes      24   \n",
            "7039  2234-XADUH  Female              0     Yes        Yes      72   \n",
            "7040  4801-JZAZL  Female              0     Yes        Yes      11   \n",
            "7041  8361-LTMKD    Male              1     Yes         No       4   \n",
            "7042  3186-AJIEK    Male              0      No         No      66   \n",
            "\n",
            "     PhoneService     MultipleLines InternetService OnlineSecurity  ...  \\\n",
            "0              No  No phone service             DSL             No  ...   \n",
            "1             Yes                No             DSL            Yes  ...   \n",
            "2             Yes                No             DSL            Yes  ...   \n",
            "3              No  No phone service             DSL            Yes  ...   \n",
            "4             Yes                No     Fiber optic             No  ...   \n",
            "...           ...               ...             ...            ...  ...   \n",
            "7038          Yes               Yes             DSL            Yes  ...   \n",
            "7039          Yes               Yes     Fiber optic             No  ...   \n",
            "7040           No  No phone service             DSL            Yes  ...   \n",
            "7041          Yes               Yes     Fiber optic             No  ...   \n",
            "7042          Yes                No     Fiber optic            Yes  ...   \n",
            "\n",
            "     StreamingTV StreamingMovies        Contract PaperlessBilling  \\\n",
            "0             No              No  Month-to-month              Yes   \n",
            "1             No              No        One year               No   \n",
            "2             No              No  Month-to-month              Yes   \n",
            "3             No              No        One year               No   \n",
            "4             No              No  Month-to-month              Yes   \n",
            "...          ...             ...             ...              ...   \n",
            "7038         Yes             Yes        One year              Yes   \n",
            "7039         Yes             Yes        One year              Yes   \n",
            "7040          No              No  Month-to-month              Yes   \n",
            "7041          No              No  Month-to-month              Yes   \n",
            "7042         Yes             Yes        Two year              Yes   \n",
            "\n",
            "                  PaymentMethod MonthlyCharges TotalCharges Churn  \\\n",
            "0              Electronic check          29.85        29.85    No   \n",
            "1                  Mailed check          56.95       1889.5    No   \n",
            "2                  Mailed check          53.85       108.15   Yes   \n",
            "3     Bank transfer (automatic)          42.30      1840.75    No   \n",
            "4              Electronic check          70.70       151.65   Yes   \n",
            "...                         ...            ...          ...   ...   \n",
            "7038               Mailed check          84.80       1990.5    No   \n",
            "7039    Credit card (automatic)         103.20       7362.9    No   \n",
            "7040           Electronic check          29.60       346.45    No   \n",
            "7041               Mailed check          74.40        306.6   Yes   \n",
            "7042  Bank transfer (automatic)         105.65       6844.5    No   \n",
            "\n",
            "      tenure_group charges_group  \n",
            "0      0-12 Months           Low  \n",
            "1     24-48 Months        Medium  \n",
            "2      0-12 Months        Medium  \n",
            "3     24-48 Months        Medium  \n",
            "4      0-12 Months          High  \n",
            "...            ...           ...  \n",
            "7038  12-24 Months          High  \n",
            "7039    60+ Months          High  \n",
            "7040   0-12 Months           Low  \n",
            "7041   0-12 Months          High  \n",
            "7042    60+ Months          High  \n",
            "\n",
            "[7043 rows x 23 columns]\n"
          ]
        }
      ]
    },
    {
      "cell_type": "code",
      "source": [],
      "metadata": {
        "id": "yvingpPXTwOK"
      },
      "execution_count": null,
      "outputs": []
    },
    {
      "cell_type": "code",
      "source": [
        "# prompt: Make Dataframe from result\n",
        "\n",
        "import pandas as pd\n",
        "df = pd.DataFrame(result)\n",
        "print(df)\n"
      ],
      "metadata": {
        "colab": {
          "base_uri": "https://localhost:8080/"
        },
        "id": "IJTtvQNmLWnW",
        "outputId": "7eb6170a-3a80-4f33-a8da-56723391ff71"
      },
      "execution_count": 8,
      "outputs": [
        {
          "output_type": "stream",
          "name": "stdout",
          "text": [
            "      customerID  gender  SeniorCitizen Partner Dependents  tenure  \\\n",
            "0     7590-VHVEG  Female              0     Yes         No       1   \n",
            "1     5575-GNVDE    Male              0      No         No      34   \n",
            "2     3668-QPYBK    Male              0      No         No       2   \n",
            "3     7795-CFOCW    Male              0      No         No      45   \n",
            "4     9237-HQITU  Female              0      No         No       2   \n",
            "...          ...     ...            ...     ...        ...     ...   \n",
            "7038  6840-RESVB    Male              0     Yes        Yes      24   \n",
            "7039  2234-XADUH  Female              0     Yes        Yes      72   \n",
            "7040  4801-JZAZL  Female              0     Yes        Yes      11   \n",
            "7041  8361-LTMKD    Male              1     Yes         No       4   \n",
            "7042  3186-AJIEK    Male              0      No         No      66   \n",
            "\n",
            "     PhoneService     MultipleLines InternetService OnlineSecurity  ...  \\\n",
            "0              No  No phone service             DSL             No  ...   \n",
            "1             Yes                No             DSL            Yes  ...   \n",
            "2             Yes                No             DSL            Yes  ...   \n",
            "3              No  No phone service             DSL            Yes  ...   \n",
            "4             Yes                No     Fiber optic             No  ...   \n",
            "...           ...               ...             ...            ...  ...   \n",
            "7038          Yes               Yes             DSL            Yes  ...   \n",
            "7039          Yes               Yes     Fiber optic             No  ...   \n",
            "7040           No  No phone service             DSL            Yes  ...   \n",
            "7041          Yes               Yes     Fiber optic             No  ...   \n",
            "7042          Yes                No     Fiber optic            Yes  ...   \n",
            "\n",
            "     StreamingTV StreamingMovies        Contract PaperlessBilling  \\\n",
            "0             No              No  Month-to-month              Yes   \n",
            "1             No              No        One year               No   \n",
            "2             No              No  Month-to-month              Yes   \n",
            "3             No              No        One year               No   \n",
            "4             No              No  Month-to-month              Yes   \n",
            "...          ...             ...             ...              ...   \n",
            "7038         Yes             Yes        One year              Yes   \n",
            "7039         Yes             Yes        One year              Yes   \n",
            "7040          No              No  Month-to-month              Yes   \n",
            "7041          No              No  Month-to-month              Yes   \n",
            "7042         Yes             Yes        Two year              Yes   \n",
            "\n",
            "                  PaymentMethod MonthlyCharges TotalCharges Churn  \\\n",
            "0              Electronic check          29.85        29.85    No   \n",
            "1                  Mailed check          56.95       1889.5    No   \n",
            "2                  Mailed check          53.85       108.15   Yes   \n",
            "3     Bank transfer (automatic)          42.30      1840.75    No   \n",
            "4              Electronic check          70.70       151.65   Yes   \n",
            "...                         ...            ...          ...   ...   \n",
            "7038               Mailed check          84.80       1990.5    No   \n",
            "7039    Credit card (automatic)         103.20       7362.9    No   \n",
            "7040           Electronic check          29.60       346.45    No   \n",
            "7041               Mailed check          74.40        306.6   Yes   \n",
            "7042  Bank transfer (automatic)         105.65       6844.5    No   \n",
            "\n",
            "      tenure_group charges_group  \n",
            "0      0-12 Months           Low  \n",
            "1     24-48 Months        Medium  \n",
            "2      0-12 Months        Medium  \n",
            "3     24-48 Months        Medium  \n",
            "4      0-12 Months          High  \n",
            "...            ...           ...  \n",
            "7038  12-24 Months          High  \n",
            "7039    60+ Months          High  \n",
            "7040   0-12 Months           Low  \n",
            "7041   0-12 Months          High  \n",
            "7042    60+ Months          High  \n",
            "\n",
            "[7043 rows x 23 columns]\n"
          ]
        }
      ]
    },
    {
      "cell_type": "code",
      "source": [
        "import pandas as pd\n",
        "from sklearn.model_selection import train_test_split\n",
        "from sklearn.ensemble import RandomForestClassifier\n",
        "from sklearn.metrics import accuracy_score, confusion_matrix, classification_report\n",
        "from sklearn.preprocessing import LabelEncoder"
      ],
      "metadata": {
        "id": "a9_YtWLKL96M"
      },
      "execution_count": 9,
      "outputs": []
    },
    {
      "cell_type": "code",
      "source": [
        "# Memisahkan kolom berdasarkan tipe data\n",
        "categorical_columns = df.select_dtypes(include=['object']).columns\n",
        "\n",
        "# Membuat objek LabelEncoder\n",
        "label_encoder = LabelEncoder()\n",
        "\n",
        "# Mengaplikasikan LabelEncoder pada kolom-kolom kategorikal\n",
        "for column in categorical_columns:\n",
        "    df[column] = label_encoder.fit_transform(df[column])\n",
        "\n",
        "# Menampilkan data setelah proses encoding\n",
        "print(df)"
      ],
      "metadata": {
        "colab": {
          "base_uri": "https://localhost:8080/"
        },
        "id": "GpFLM7UFMiBJ",
        "outputId": "2c770955-8b17-4d72-9c8a-8b6dd855c490"
      },
      "execution_count": 10,
      "outputs": [
        {
          "output_type": "stream",
          "name": "stdout",
          "text": [
            "      customerID  gender  SeniorCitizen  Partner  Dependents  tenure  \\\n",
            "0           5375       0              0        1           0       1   \n",
            "1           3962       1              0        0           0      34   \n",
            "2           2564       1              0        0           0       2   \n",
            "3           5535       1              0        0           0      45   \n",
            "4           6511       0              0        0           0       2   \n",
            "...          ...     ...            ...      ...         ...     ...   \n",
            "7038        4853       1              0        1           1      24   \n",
            "7039        1525       0              0        1           1      72   \n",
            "7040        3367       0              0        1           1      11   \n",
            "7041        5934       1              1        1           0       4   \n",
            "7042        2226       1              0        0           0      66   \n",
            "\n",
            "      PhoneService  MultipleLines  InternetService  OnlineSecurity  ...  \\\n",
            "0                0              1                0               0  ...   \n",
            "1                1              0                0               2  ...   \n",
            "2                1              0                0               2  ...   \n",
            "3                0              1                0               2  ...   \n",
            "4                1              0                1               0  ...   \n",
            "...            ...            ...              ...             ...  ...   \n",
            "7038             1              2                0               2  ...   \n",
            "7039             1              2                1               0  ...   \n",
            "7040             0              1                0               2  ...   \n",
            "7041             1              2                1               0  ...   \n",
            "7042             1              0                1               2  ...   \n",
            "\n",
            "      StreamingTV  StreamingMovies  Contract  PaperlessBilling  PaymentMethod  \\\n",
            "0               0                0         0                 1              2   \n",
            "1               0                0         1                 0              3   \n",
            "2               0                0         0                 1              3   \n",
            "3               0                0         1                 0              0   \n",
            "4               0                0         0                 1              2   \n",
            "...           ...              ...       ...               ...            ...   \n",
            "7038            2                2         1                 1              3   \n",
            "7039            2                2         1                 1              1   \n",
            "7040            0                0         0                 1              2   \n",
            "7041            0                0         0                 1              3   \n",
            "7042            2                2         2                 1              0   \n",
            "\n",
            "      MonthlyCharges  TotalCharges  Churn  tenure_group  charges_group  \n",
            "0              29.85          2505      0             0              1  \n",
            "1              56.95          1466      0             2              2  \n",
            "2              53.85           157      1             0              2  \n",
            "3              42.30          1400      0             2              2  \n",
            "4              70.70           925      1             0              0  \n",
            "...              ...           ...    ...           ...            ...  \n",
            "7038           84.80          1597      0             1              0  \n",
            "7039          103.20          5698      0             4              0  \n",
            "7040           29.60          2994      0             0              1  \n",
            "7041           74.40          2660      1             0              0  \n",
            "7042          105.65          5407      0             4              0  \n",
            "\n",
            "[7043 rows x 23 columns]\n"
          ]
        }
      ]
    },
    {
      "cell_type": "code",
      "source": [
        "# Mengembalikan nilai yang telah di-encode ke nilai aslinya\n",
        "for column in categorical_columns:\n",
        "    df[column] = label_encoders[column].inverse_transform(df[column])\n",
        "\n",
        "# Menampilkan data setelah mengembalikan ke nilai asli\n",
        "print(\"\\nDecoded Data:\")\n",
        "print(df)"
      ],
      "metadata": {
        "id": "R6kGpLTUQMKo"
      },
      "execution_count": null,
      "outputs": []
    },
    {
      "cell_type": "code",
      "source": [
        "X = df.drop('Churn', axis=1)\n",
        "y = df['Churn']\n",
        "\n",
        "X_train, X_test, y_train, y_test = train_test_split(X, y, test_size=0.2, random_state=42)"
      ],
      "metadata": {
        "id": "OWofr0RiMIaq"
      },
      "execution_count": 11,
      "outputs": []
    },
    {
      "cell_type": "code",
      "source": [
        "model = RandomForestClassifier()\n",
        "model.fit(X_train, y_train)"
      ],
      "metadata": {
        "colab": {
          "base_uri": "https://localhost:8080/",
          "height": 75
        },
        "id": "7av6drdxMMV6",
        "outputId": "b059768e-3852-4978-b8c1-b79c885ec3d1"
      },
      "execution_count": 13,
      "outputs": [
        {
          "output_type": "execute_result",
          "data": {
            "text/plain": [
              "RandomForestClassifier()"
            ],
            "text/html": [
              "<style>#sk-container-id-1 {color: black;}#sk-container-id-1 pre{padding: 0;}#sk-container-id-1 div.sk-toggleable {background-color: white;}#sk-container-id-1 label.sk-toggleable__label {cursor: pointer;display: block;width: 100%;margin-bottom: 0;padding: 0.3em;box-sizing: border-box;text-align: center;}#sk-container-id-1 label.sk-toggleable__label-arrow:before {content: \"▸\";float: left;margin-right: 0.25em;color: #696969;}#sk-container-id-1 label.sk-toggleable__label-arrow:hover:before {color: black;}#sk-container-id-1 div.sk-estimator:hover label.sk-toggleable__label-arrow:before {color: black;}#sk-container-id-1 div.sk-toggleable__content {max-height: 0;max-width: 0;overflow: hidden;text-align: left;background-color: #f0f8ff;}#sk-container-id-1 div.sk-toggleable__content pre {margin: 0.2em;color: black;border-radius: 0.25em;background-color: #f0f8ff;}#sk-container-id-1 input.sk-toggleable__control:checked~div.sk-toggleable__content {max-height: 200px;max-width: 100%;overflow: auto;}#sk-container-id-1 input.sk-toggleable__control:checked~label.sk-toggleable__label-arrow:before {content: \"▾\";}#sk-container-id-1 div.sk-estimator input.sk-toggleable__control:checked~label.sk-toggleable__label {background-color: #d4ebff;}#sk-container-id-1 div.sk-label input.sk-toggleable__control:checked~label.sk-toggleable__label {background-color: #d4ebff;}#sk-container-id-1 input.sk-hidden--visually {border: 0;clip: rect(1px 1px 1px 1px);clip: rect(1px, 1px, 1px, 1px);height: 1px;margin: -1px;overflow: hidden;padding: 0;position: absolute;width: 1px;}#sk-container-id-1 div.sk-estimator {font-family: monospace;background-color: #f0f8ff;border: 1px dotted black;border-radius: 0.25em;box-sizing: border-box;margin-bottom: 0.5em;}#sk-container-id-1 div.sk-estimator:hover {background-color: #d4ebff;}#sk-container-id-1 div.sk-parallel-item::after {content: \"\";width: 100%;border-bottom: 1px solid gray;flex-grow: 1;}#sk-container-id-1 div.sk-label:hover label.sk-toggleable__label {background-color: #d4ebff;}#sk-container-id-1 div.sk-serial::before {content: \"\";position: absolute;border-left: 1px solid gray;box-sizing: border-box;top: 0;bottom: 0;left: 50%;z-index: 0;}#sk-container-id-1 div.sk-serial {display: flex;flex-direction: column;align-items: center;background-color: white;padding-right: 0.2em;padding-left: 0.2em;position: relative;}#sk-container-id-1 div.sk-item {position: relative;z-index: 1;}#sk-container-id-1 div.sk-parallel {display: flex;align-items: stretch;justify-content: center;background-color: white;position: relative;}#sk-container-id-1 div.sk-item::before, #sk-container-id-1 div.sk-parallel-item::before {content: \"\";position: absolute;border-left: 1px solid gray;box-sizing: border-box;top: 0;bottom: 0;left: 50%;z-index: -1;}#sk-container-id-1 div.sk-parallel-item {display: flex;flex-direction: column;z-index: 1;position: relative;background-color: white;}#sk-container-id-1 div.sk-parallel-item:first-child::after {align-self: flex-end;width: 50%;}#sk-container-id-1 div.sk-parallel-item:last-child::after {align-self: flex-start;width: 50%;}#sk-container-id-1 div.sk-parallel-item:only-child::after {width: 0;}#sk-container-id-1 div.sk-dashed-wrapped {border: 1px dashed gray;margin: 0 0.4em 0.5em 0.4em;box-sizing: border-box;padding-bottom: 0.4em;background-color: white;}#sk-container-id-1 div.sk-label label {font-family: monospace;font-weight: bold;display: inline-block;line-height: 1.2em;}#sk-container-id-1 div.sk-label-container {text-align: center;}#sk-container-id-1 div.sk-container {/* jupyter's `normalize.less` sets `[hidden] { display: none; }` but bootstrap.min.css set `[hidden] { display: none !important; }` so we also need the `!important` here to be able to override the default hidden behavior on the sphinx rendered scikit-learn.org. See: https://github.com/scikit-learn/scikit-learn/issues/21755 */display: inline-block !important;position: relative;}#sk-container-id-1 div.sk-text-repr-fallback {display: none;}</style><div id=\"sk-container-id-1\" class=\"sk-top-container\"><div class=\"sk-text-repr-fallback\"><pre>RandomForestClassifier()</pre><b>In a Jupyter environment, please rerun this cell to show the HTML representation or trust the notebook. <br />On GitHub, the HTML representation is unable to render, please try loading this page with nbviewer.org.</b></div><div class=\"sk-container\" hidden><div class=\"sk-item\"><div class=\"sk-estimator sk-toggleable\"><input class=\"sk-toggleable__control sk-hidden--visually\" id=\"sk-estimator-id-1\" type=\"checkbox\" checked><label for=\"sk-estimator-id-1\" class=\"sk-toggleable__label sk-toggleable__label-arrow\">RandomForestClassifier</label><div class=\"sk-toggleable__content\"><pre>RandomForestClassifier()</pre></div></div></div></div></div>"
            ]
          },
          "metadata": {},
          "execution_count": 13
        }
      ]
    },
    {
      "cell_type": "code",
      "source": [
        "y_pred = model.predict(X_test)\n",
        "print(\"Accuracy:\", accuracy_score(y_test, y_pred))\n",
        "print(confusion_matrix(y_test, y_pred))\n",
        "print(classification_report(y_test, y_pred))"
      ],
      "metadata": {
        "colab": {
          "base_uri": "https://localhost:8080/"
        },
        "id": "P35Ac27ZMR1t",
        "outputId": "51bdd520-322f-494b-b853-f0ac6f3c5b81"
      },
      "execution_count": 14,
      "outputs": [
        {
          "output_type": "stream",
          "name": "stdout",
          "text": [
            "Accuracy: 0.7963094393186657\n",
            "[[940  96]\n",
            " [191 182]]\n",
            "              precision    recall  f1-score   support\n",
            "\n",
            "           0       0.83      0.91      0.87      1036\n",
            "           1       0.65      0.49      0.56       373\n",
            "\n",
            "    accuracy                           0.80      1409\n",
            "   macro avg       0.74      0.70      0.71      1409\n",
            "weighted avg       0.78      0.80      0.79      1409\n",
            "\n"
          ]
        }
      ]
    },
    {
      "cell_type": "code",
      "source": [
        "queries = {\n",
        "\"Churn Rate by Tenuure Group\" : \"\"\"\n",
        "  SELECT tenure_group, Churn, COUNT(*) FROM telco_churn GROUP BY tenure_group, Churn;\"\"\",\n",
        "\"Churn Rate by Charges Group\" : '''\n",
        "  SELECT charges_group, Churn, COUNT(*) FROM telco_churn GROUP BY charges_group, Churn;'''\n",
        "}\n",
        "for query_name, query in queries.items():\n",
        "    print(f\"{query_name}\")\n",
        "    result = pd.read_sql_query(query, conn)\n",
        "    print(result)\n",
        "    print(\"\\n\")\n"
      ],
      "metadata": {
        "colab": {
          "base_uri": "https://localhost:8080/"
        },
        "id": "7l9VH7qpSqD9",
        "outputId": "5a2309fc-1956-46b4-a455-3309b4869a25"
      },
      "execution_count": 16,
      "outputs": [
        {
          "output_type": "stream",
          "name": "stdout",
          "text": [
            "Churn Rate by Tenuure Group\n",
            "   tenure_group Churn  COUNT(*)\n",
            "0   0-12 Months    No      1149\n",
            "1   0-12 Months   Yes      1037\n",
            "2  12-24 Months    No       730\n",
            "3  12-24 Months   Yes       294\n",
            "4  24-48 Months    No      1269\n",
            "5  24-48 Months   Yes       325\n",
            "6  48-60 Months    No       712\n",
            "7  48-60 Months   Yes       120\n",
            "8    60+ Months    No      1314\n",
            "9    60+ Months   Yes        93\n",
            "\n",
            "\n",
            "Churn Rate by Charges Group\n",
            "  charges_group Churn  COUNT(*)\n",
            "0          High    No      2746\n",
            "1          High   Yes      1379\n",
            "2           Low    No      1491\n",
            "3           Low   Yes       162\n",
            "4        Medium    No       937\n",
            "5        Medium   Yes       328\n",
            "\n",
            "\n"
          ]
        }
      ]
    }
  ]
}