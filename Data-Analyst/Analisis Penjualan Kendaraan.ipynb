{
 "cells": [
  {
   "cell_type": "markdown",
   "metadata": {},
   "source": [
    "# Analisis Penjualan Kendaraan\n",
    "\n",
    "Proyek ini menganalisis data penjualan kendaraan menggunakan dataset \"Vehicle Sales and Market Trends Dataset\"."
   ]
  },
  {
   "cell_type": "code",
   "execution_count": 1,
   "metadata": {},
   "outputs": [],
   "source": [
    "import sqlite3\n",
    "import pandas as pd\n",
    "\n",
    "# Membuat koneksi ke database SQLite\n",
    "conn = sqlite3.connect('vehicle_sales.db')\n",
    "cursor = conn.cursor()"
   ]
  },
  {
   "cell_type": "markdown",
   "metadata": {},
   "source": [
    "## Membuat Tabel"
   ]
  },
  {
   "cell_type": "code",
   "execution_count": 2,
   "metadata": {},
   "outputs": [],
   "source": [
    "# Membuat tabel VehicleSales\n",
    "cursor.execute('''\n",
    "CREATE TABLE VehicleSales (\n",
    "    sale_id INTEGER PRIMARY KEY AUTOINCREMENT,\n",
    "    year INTEGER,\n",
    "    make TEXT,\n",
    "    model TEXT,\n",
    "    trim TEXT,\n",
    "    body_type TEXT,\n",
    "    transmission TEXT,\n",
    "    vin TEXT,\n",
    "    state TEXT,\n",
    "    condition INTEGER,\n",
    "    odometer INTEGER,\n",
    "    exterior_color TEXT,\n",
    "    interior_color TEXT,\n",
    "    seller TEXT,\n",
    "    mmr REAL,\n",
    "    selling_price REAL,\n",
    "    sale_date TEXT\n",
    ")\n",
    "''')\n",
    "\n",
    "conn.commit()"
   ]
  },
  {
   "cell_type": "markdown",
   "metadata": {},
   "source": [
    "## Mengisi Data\n",
    "\n",
    "Impor data dari CSV ke dalam tabel."
   ]
  },
  {
   "cell_type": "code",
   "execution_count": 3,
   "metadata": {},
   "outputs": [],
   "source": [
    "# Membaca data dari CSV\n",
    "data = pd.read_csv('vehicle_sales.csv')\n",
    "\n",
    "# Contoh data\n",
    "data.head()"
   ]
  },
  {
   "cell_type": "code",
   "execution_count": 4,
   "metadata": {},
   "outputs": [],
   "source": [
    "# Memasukkan data ke tabel VehicleSales\n",
    "data.to_sql('VehicleSales', conn, if_exists='append', index=False)"
   ]
  },
  {
   "cell_type": "markdown",
   "metadata": {},
   "source": [
    "## Analisis Data"
   ]
  },
  {
   "cell_type": "code",
   "execution_count": 5,
   "metadata": {},
   "outputs": [],
   "source": [
    "# Harga rata-rata berdasarkan tahun\n",
    "query = '''\n",
    "SELECT year, AVG(selling_price) as avg_price \n",
    "FROM VehicleSales \n",
    "GROUP BY year \n",
    "ORDER BY year\n",
    "'''\n",
    "pd.read_sql_query(query, conn)"
   ]
  },
  {
   "cell_type": "code",
   "execution_count": 6,
   "metadata": {},
   "outputs": [],
   "source": [
    "# Jumlah penjualan berdasarkan merek\n",
    "query = '''\n",
    "SELECT make, COUNT(*) as total_sales \n",
    "FROM VehicleSales \n",
    "GROUP BY make \n",
    "ORDER BY total_sales DESC\n",
    "LIMIT 10\n",
    "'''\n",
    "pd.read_sql_query(query, conn)"
   ]
  },
  {
   "cell_type": "code",
   "execution_count": 7,
   "metadata": {},
   "outputs": [],
   "source": [
    "# Pengaruh kondisi dan jarak tempuh terhadap harga jual\n",
    "query = '''\n",
    "SELECT condition, AVG(selling_price) as avg_price, AVG(odometer) as avg_odometer \n",
    "FROM VehicleSales \n",
    "GROUP BY condition \n",
    "ORDER BY condition\n",
    "'''\n",
    "pd.read_sql_query(query, conn)"
   ]
  },
  {
   "cell_type": "markdown",
   "metadata": {},
   "source": [
    "## Penutupan Koneksi"
   ]
  },
  {
   "cell_type": "code",
   "execution_count": 8,
   "metadata": {},
   "outputs": [],
   "source": [
    "# Menutup koneksi ke database\n",
    "conn.close()"
   ]
  }
 ],
 "metadata": {
  "kernelspec": {
   "display_name": "Python 3",
   "language": "python",
   "name": "python3"
  },
  "language_info": {
   "codemirror_mode": {
    "name": "ipython",
    "version": 3
   },
   "file_extension": ".py",
   "mimetype": "text/x-python",
   "name": "python",
   "nbconvert_exporter": "python",
   "pygments_lexer": "ipython3",
   "version": "3.8.5"
  }
 },
 "nbformat": 4,
 "nbformat_minor": 4
}
